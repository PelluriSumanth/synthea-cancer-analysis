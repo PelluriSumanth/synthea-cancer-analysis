{
 "cells": [
  {
   "cell_type": "code",
   "execution_count": 1,
   "id": "061a328d-a94f-44d1-b301-15f960382cd8",
   "metadata": {},
   "outputs": [],
   "source": [
    "import pandas as pd\n",
    "from pathlib import Path"
   ]
  },
  {
   "cell_type": "code",
   "execution_count": 2,
   "id": "a5184b74-a96a-41c6-ab34-f0f4f61cf73c",
   "metadata": {},
   "outputs": [],
   "source": [
    "# Paths defined \n",
    "raw_data_path = Path('/Users/sumanth/personal_project/data/')\n",
    "uploaded_tables_path = Path('/Users/sumanth/personal_project/data/uploaded_tables')\n",
    "pc_path = Path('/Users/sumanth/personal_project/outputs/pc_cancer_post_20')\n",
    "filtered_path = Path('/Users/sumanth/personal_project/outputs/filtered_tables')\n",
    "inter_path = Path('/Users/sumanth/personal_project/outputs/intermediate_tables')\n",
    "inter_path.mkdir(parents=True, exist_ok=True)"
   ]
  },
  {
   "cell_type": "code",
   "execution_count": 3,
   "id": "74440b14-7613-422b-9f00-d87e7fd4adb0",
   "metadata": {},
   "outputs": [],
   "source": [
    "# Reading tables \n",
    "\n",
    "patients = pd.read_csv(filtered_path / 'patients_filtered_pc1.csv')\n",
    "medications = pd.read_csv(filtered_path / 'medications_filtered_pc1.csv')\n",
    "procedures = pd.read_csv(filtered_path / 'procedures_filtered_pc1.csv')\n",
    "\n",
    "drug_mb = pd.read_csv(uploaded_tables_path / 'drug_mb_v0_sp.csv')\n",
    "sx_mb = pd.read_csv(uploaded_tables_path / 'sx_mb_v0_sp.csv')"
   ]
  },
  {
   "cell_type": "code",
   "execution_count": 4,
   "id": "aed6cfb2-4403-4590-899d-b7ac8abb0459",
   "metadata": {},
   "outputs": [
    {
     "name": "stderr",
     "output_type": "stream",
     "text": [
      "/var/folders/8v/8_90x6gs7y1bpykv_b3d02x40000gn/T/ipykernel_67322/2381165568.py:2: UserWarning: This pattern is interpreted as a regular expression, and has match groups. To actually get the groups, use str.extract.\n",
      "  pc_surgery = procedures[procedures[\"DESCRIPTION\"].str.contains('|'.join(list(sx_mb['procedure_name'])), case = False , na = False )]\n",
      "/var/folders/8v/8_90x6gs7y1bpykv_b3d02x40000gn/T/ipykernel_67322/2381165568.py:4: SettingWithCopyWarning: \n",
      "A value is trying to be set on a copy of a slice from a DataFrame.\n",
      "Try using .loc[row_indexer,col_indexer] = value instead\n",
      "\n",
      "See the caveats in the documentation: https://pandas.pydata.org/pandas-docs/stable/user_guide/indexing.html#returning-a-view-versus-a-copy\n",
      "  pc_drugs[\"START\"] = pd.to_datetime(pc_drugs[\"START\"], format = 'ISO8601')\n",
      "/var/folders/8v/8_90x6gs7y1bpykv_b3d02x40000gn/T/ipykernel_67322/2381165568.py:5: SettingWithCopyWarning: \n",
      "A value is trying to be set on a copy of a slice from a DataFrame.\n",
      "Try using .loc[row_indexer,col_indexer] = value instead\n",
      "\n",
      "See the caveats in the documentation: https://pandas.pydata.org/pandas-docs/stable/user_guide/indexing.html#returning-a-view-versus-a-copy\n",
      "  pc_surgery[\"START\"] = pd.to_datetime(pc_surgery[\"START\"], format = 'ISO8601')\n"
     ]
    }
   ],
   "source": [
    "pc_drugs = medications[medications[\"DESCRIPTION\"].str.contains('|'.join(list(drug_mb['drug_name'])), case = False , na = False )]\n",
    "pc_surgery = procedures[procedures[\"DESCRIPTION\"].str.contains('|'.join(list(sx_mb['procedure_name'])), case = False , na = False )]\n",
    "\n",
    "pc_drugs[\"START\"] = pd.to_datetime(pc_drugs[\"START\"], format = 'ISO8601')\n",
    "pc_surgery[\"START\"] = pd.to_datetime(pc_surgery[\"START\"], format = 'ISO8601')"
   ]
  },
  {
   "cell_type": "code",
   "execution_count": 5,
   "id": "e29fffa0-a6c0-48b1-817c-4c600af06ee8",
   "metadata": {},
   "outputs": [],
   "source": [
    "pc_drugs.to_csv(inter_path / 'drugs_filtered_pc1.csv')\n",
    "pc_surgery.to_csv(inter_path / 'sx_filtered_pc1.csv')"
   ]
  },
  {
   "cell_type": "code",
   "execution_count": 6,
   "id": "7862d891-6b65-4de4-ae6e-659ec926eeed",
   "metadata": {},
   "outputs": [],
   "source": [
    "pc_drugs_alt = pc_drugs[[\"PATIENT\", \"START\", \"CODE\", \"DESCRIPTION\", \"TOTALCOST\"]].rename(columns = {\"PATIENT\":\"pat_id\", \"START\":\"tx_date\",\"CODE\":\"tx_code\",\"DESCRIPTION\":\"tx_desc\",\"TOTALCOST\":\"tx_cost\"} )\n",
    "pc_drugs_alt[\"tx_type\"] = 'drug'\n",
    "\n",
    "pc_sx_alt = pc_surgery[[\"PATIENT\", \"START\", \"CODE\", \"DESCRIPTION\", \"BASE_COST\"]].rename(columns = {\"PATIENT\":\"pat_id\", \"START\":\"tx_date\",\"CODE\":\"tx_code\",\"DESCRIPTION\":\"tx_desc\",\"BASE_COST\":\"tx_cost\"} )\n",
    "pc_sx_alt[\"tx_type\"] = 'sx'"
   ]
  },
  {
   "cell_type": "code",
   "execution_count": 7,
   "id": "24f56dec-a938-4655-837e-76b197b6ac55",
   "metadata": {
    "scrolled": true
   },
   "outputs": [],
   "source": [
    "pc_tx_table = pd.concat([pc_drugs_alt,pc_sx_alt], ignore_index = True)"
   ]
  },
  {
   "cell_type": "code",
   "execution_count": 8,
   "id": "4881d50b-ca7b-4932-b27a-211caa14f43e",
   "metadata": {},
   "outputs": [],
   "source": [
    "pc_tx_table.to_csv(inter_path / 'tx_combined_filtered_pc1.csv')"
   ]
  },
  {
   "cell_type": "code",
   "execution_count": null,
   "id": "4034abc6-ba37-42c4-b359-aded6f8fbd58",
   "metadata": {},
   "outputs": [],
   "source": []
  }
 ],
 "metadata": {
  "kernelspec": {
   "display_name": "Python 3 (ipykernel)",
   "language": "python",
   "name": "python3"
  },
  "language_info": {
   "codemirror_mode": {
    "name": "ipython",
    "version": 3
   },
   "file_extension": ".py",
   "mimetype": "text/x-python",
   "name": "python",
   "nbconvert_exporter": "python",
   "pygments_lexer": "ipython3",
   "version": "3.12.4"
  }
 },
 "nbformat": 4,
 "nbformat_minor": 5
}
