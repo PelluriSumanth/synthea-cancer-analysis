{
 "cells": [
  {
   "cell_type": "code",
   "execution_count": 1,
   "id": "64065d6b-58a1-42f8-84f2-8b1d62eb602c",
   "metadata": {},
   "outputs": [
    {
     "name": "stdout",
     "output_type": "stream",
     "text": [
      "Strict counts (first diagnosis >= 2020):\n",
      "  cancer: 275\n",
      "  diabetes: 445\n",
      "  heart_disease: 356\n",
      "  stroke: 18\n",
      "  copd_asthma: 70\n",
      "  ckd: 231\n",
      "  hypertension: 388\n",
      "cancer cohort size (strict): 275\n",
      "cancer_plus_diabetes cohort size (strict): 531\n"
     ]
    }
   ],
   "source": [
    "import pandas as pd\n",
    "from pathlib import Path\n",
    "\n",
    "# Paths\n",
    "data_path = Path('/Users/sumanth/personal_project/data/')\n",
    "out_path  = Path('/Users/sumanth/personal_project/outputs/')\n",
    "out_path.mkdir(parents=True, exist_ok=True)\n",
    "\n",
    "# Read robustly\n",
    "def read_csv_clean(fn):\n",
    "    return pd.read_csv(data_path / fn, engine='python', on_bad_lines='skip')\n",
    "\n",
    "patients   = read_csv_clean('patients.csv')\n",
    "conditions = read_csv_clean('conditions.csv')\n",
    "conditions['START'] = pd.to_datetime(conditions['START'], errors='coerce')\n",
    "\n",
    "AFTER = pd.Timestamp('2020-01-01')\n",
    "\n",
    "# Disease keyword sets\n",
    "CATEGORIES = {\n",
    "    'cancer': [\n",
    "        'malignant neoplasm','carcinoma','cancer','sarcoma','melanoma',\n",
    "        'lymphoma','leukemia','myeloma','metastasis','in situ'\n",
    "    ],\n",
    "    'diabetes': ['diabetes mellitus type 2','prediabetes','hyperglycemia'],\n",
    "    'heart_disease': ['ischemic heart disease','myocardial infarction','heart failure','coronary','angina'],\n",
    "    'stroke': ['stroke','cerebrovascular accident'],\n",
    "    'copd_asthma': ['chronic obstructive','emphysema','asthma'],\n",
    "    'ckd': ['chronic kidney disease','end-stage renal disease'],\n",
    "    'hypertension': ['essential hypertension']\n",
    "}\n",
    "\n",
    "# Strict count = first-dx filter after computing earliest dx\n",
    "def count_unique_patients_strict(terms):\n",
    "    m = conditions['DESCRIPTION'].str.contains('|'.join(terms), case=False, na=False)\n",
    "    cond_sub = conditions.loc[m, ['PATIENT','START']]\n",
    "    if cond_sub.empty:\n",
    "        return 0\n",
    "    first_dx = cond_sub.groupby('PATIENT')['START'].min().reset_index(name='FIRST_DIAGNOSIS')\n",
    "    recent_first = first_dx[first_dx['FIRST_DIAGNOSIS'] >= AFTER]\n",
    "    return recent_first['PATIENT'].nunique()\n",
    "\n",
    "# Get strict counts for all categories\n",
    "counts_strict = {k: count_unique_patients_strict(v) for k,v in CATEGORIES.items()}\n",
    "print('Strict counts (first diagnosis >= 2020):')\n",
    "for k,v in counts_strict.items():\n",
    "    print(f'  {k}: {v}')\n",
    "\n",
    "# Helper to build a strict cohort for any set of terms (OR across terms)\n",
    "def build_cohort_strict(terms, label):\n",
    "    m = conditions['DESCRIPTION'].str.contains('|'.join(terms), case=False, na=False)\n",
    "    cond_sub = conditions.loc[m, ['PATIENT','START']]\n",
    "    if cond_sub.empty:\n",
    "        print(f'No matches for {label}')\n",
    "        return pd.DataFrame()\n",
    "    first_dx = cond_sub.groupby('PATIENT')['START'].min().reset_index(name='FIRST_DIAGNOSIS')\n",
    "    recent = first_dx[first_dx['FIRST_DIAGNOSIS'] >= AFTER]\n",
    "    cohort = patients.merge(recent, left_on='Id', right_on='PATIENT', how='inner')\n",
    "    print(f'{label} cohort size (strict):', cohort.shape[0])\n",
    "    return cohort\n",
    "\n",
    "# Examples:\n",
    "# cancer only\n",
    "cancer_cohort = build_cohort_strict(CATEGORIES['cancer'], 'cancer')\n",
    "cancer_cohort.to_csv(out_path / 'cohort_cancer_after2020.csv', index=False)\n",
    "\n",
    "# cancer + diabetes\n",
    "combo_terms = CATEGORIES['cancer'] + CATEGORIES['diabetes']\n",
    "combo_cohort = build_cohort_strict(combo_terms, 'cancer_plus_diabetes')\n",
    "combo_cohort.to_csv(out_path / 'cohort_cancer_diabetes_after2020.csv', index=False)\n"
   ]
  },
  {
   "cell_type": "code",
   "execution_count": null,
   "id": "cd6fdc60-f5b5-43d4-948d-68f548300a26",
   "metadata": {},
   "outputs": [],
   "source": []
  }
 ],
 "metadata": {
  "kernelspec": {
   "display_name": "Python 3 (ipykernel)",
   "language": "python",
   "name": "python3"
  },
  "language_info": {
   "codemirror_mode": {
    "name": "ipython",
    "version": 3
   },
   "file_extension": ".py",
   "mimetype": "text/x-python",
   "name": "python",
   "nbconvert_exporter": "python",
   "pygments_lexer": "ipython3",
   "version": "3.12.4"
  }
 },
 "nbformat": 4,
 "nbformat_minor": 5
}
