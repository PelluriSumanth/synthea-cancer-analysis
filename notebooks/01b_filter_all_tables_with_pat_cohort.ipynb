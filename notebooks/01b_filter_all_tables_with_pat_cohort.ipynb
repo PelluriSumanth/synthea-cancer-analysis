{
 "cells": [
  {
   "cell_type": "code",
   "execution_count": 1,
   "id": "8d5b56a4-198d-4ccb-ac6b-5e2d7c728393",
   "metadata": {},
   "outputs": [],
   "source": [
    "import pandas as pd\n",
    "from pathlib import Path"
   ]
  },
  {
   "cell_type": "code",
   "execution_count": 2,
   "id": "ac860d1d-ff6a-40e6-b9a5-3a4562795fd2",
   "metadata": {},
   "outputs": [],
   "source": [
    "# Paths defined \n",
    "raw_data_path = Path('/Users/sumanth/personal_project/data/')\n",
    "pc_path = Path('/Users/sumanth/personal_project/outputs/pc_cancer_post_20')\n",
    "output_path = Path('/Users/sumanth/personal_project/outputs/filtered_tables')\n",
    "output_path.mkdir(parents=True, exist_ok=True)"
   ]
  },
  {
   "cell_type": "code",
   "execution_count": 3,
   "id": "8cc7988f-d7e3-478b-8c36-688d57722b14",
   "metadata": {},
   "outputs": [],
   "source": [
    "#Patient cohort\n",
    "\n",
    "pc_cancer_post_20 = pd.read_csv(pc_path / \"pc_ids_cancer_post_2020.csv\")"
   ]
  },
  {
   "cell_type": "code",
   "execution_count": 4,
   "id": "c3a1bf8f-eefa-43f9-ba18-7b4ce0a6fb36",
   "metadata": {},
   "outputs": [],
   "source": [
    "# Function to read csvs in a clean way\n",
    "\n",
    "def read_csv_clean(filename):\n",
    "    return pd.read_csv(\n",
    "        raw_data_path / filename,       \n",
    "        on_bad_lines=\"skip\",   \n",
    "        sep=\",\",\n",
    "        quotechar='\"',\n",
    "        escapechar=\"\\\\\"\n",
    "    )"
   ]
  },
  {
   "cell_type": "code",
   "execution_count": 5,
   "id": "2b56a487-f3cd-448b-b4fc-e862c6cf8735",
   "metadata": {},
   "outputs": [],
   "source": [
    "# Defining a function to read all files and then write to the output file \n",
    "\n",
    "def read_write_filtered_tables(list_of_tables):\n",
    "\n",
    "    for table in list_of_tables:\n",
    "        unfiltered = read_csv_clean(table + '.csv')\n",
    "        if 'PATIENT' in list(unfiltered.columns):\n",
    "            filtered = unfiltered[unfiltered[\"PATIENT\"].isin(pc_cancer_post_20[\"pat_id\"])]\n",
    "        elif 'PATIENTID' in list(unfiltered.columns):\n",
    "            filtered = unfiltered[unfiltered[\"PATIENTID\"].isin(pc_cancer_post_20[\"pat_id\"])]\n",
    "        elif 'Id' in list(unfiltered.columns):\n",
    "            filtered = unfiltered[unfiltered[\"Id\"].isin(pc_cancer_post_20[\"pat_id\"])]\n",
    "        else:\n",
    "            print('No column ID exists')\n",
    "            filtered = unfiltered \n",
    "        output_file_name = table + '_filtered_pc1.csv'\n",
    "        filtered.to_csv(output_path / output_file_name)\n",
    "        print(\"processed \"+ table + \" successfully\")"
   ]
  },
  {
   "cell_type": "code",
   "execution_count": 7,
   "id": "3834b9a8-0387-46f8-9e45-0bdff92d1a9b",
   "metadata": {},
   "outputs": [],
   "source": [
    "all_tables = ['allergies', 'careplans', 'claims_transactions', 'claims', 'conditions', 'devices', 'encounters','imaging_studies','immunizations','medications','observations','patients','payer_transitions','procedures', 'supplies']"
   ]
  },
  {
   "cell_type": "code",
   "execution_count": 8,
   "id": "8f57d3b1-7332-496d-9346-7919b66e1264",
   "metadata": {},
   "outputs": [
    {
     "name": "stdout",
     "output_type": "stream",
     "text": [
      "processed allergies successfully\n",
      "processed careplans successfully\n",
      "processed claims_transactions successfully\n"
     ]
    },
    {
     "name": "stderr",
     "output_type": "stream",
     "text": [
      "/var/folders/8v/8_90x6gs7y1bpykv_b3d02x40000gn/T/ipykernel_65559/882520586.py:4: DtypeWarning: Columns (9,10) have mixed types. Specify dtype option on import or set low_memory=False.\n",
      "  return pd.read_csv(\n"
     ]
    },
    {
     "name": "stdout",
     "output_type": "stream",
     "text": [
      "processed claims successfully\n",
      "processed conditions successfully\n",
      "processed devices successfully\n",
      "processed encounters successfully\n",
      "processed imaging_studies successfully\n",
      "processed immunizations successfully\n",
      "processed medications successfully\n",
      "processed observations successfully\n",
      "processed patients successfully\n",
      "processed payer_transitions successfully\n",
      "processed procedures successfully\n",
      "processed supplies successfully\n"
     ]
    }
   ],
   "source": [
    "read_write_filtered_tables(all_tables)"
   ]
  }
 ],
 "metadata": {
  "kernelspec": {
   "display_name": "Python 3 (ipykernel)",
   "language": "python",
   "name": "python3"
  },
  "language_info": {
   "codemirror_mode": {
    "name": "ipython",
    "version": 3
   },
   "file_extension": ".py",
   "mimetype": "text/x-python",
   "name": "python",
   "nbconvert_exporter": "python",
   "pygments_lexer": "ipython3",
   "version": "3.12.4"
  }
 },
 "nbformat": 4,
 "nbformat_minor": 5
}
