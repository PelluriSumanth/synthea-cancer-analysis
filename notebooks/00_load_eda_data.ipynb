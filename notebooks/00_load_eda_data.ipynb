{
 "cells": [
  {
   "cell_type": "code",
   "execution_count": 1,
   "id": "ee7a80ae-3393-4d03-a405-32b6c6b152ef",
   "metadata": {},
   "outputs": [],
   "source": [
    "import pandas as pd\n",
    "import os\n",
    "from pathlib import Path"
   ]
  },
  {
   "cell_type": "code",
   "execution_count": 2,
   "id": "2e32e45f-6baf-4207-9cfb-e42b547837e5",
   "metadata": {},
   "outputs": [],
   "source": [
    "# Pandas display settings for full output\n",
    "pd.set_option('display.max_columns', None)   # Show all columns\n",
    "pd.set_option('display.width', None)         # Don't wrap columns to the next line\n",
    "pd.set_option('display.max_colwidth', None)  # Show full content in each cell"
   ]
  },
  {
   "cell_type": "code",
   "execution_count": 3,
   "id": "57bc2d20-cca9-404c-8f1b-d8e02ccb1598",
   "metadata": {},
   "outputs": [],
   "source": [
    "# Path to the csv files\n",
    "data_path = Path('/Users/sumanth/personal_project/data/')"
   ]
  },
  {
   "cell_type": "code",
   "execution_count": null,
   "id": "66994c47-bd9b-49fb-add0-13123bd58ad4",
   "metadata": {},
   "outputs": [],
   "source": [
    "def read_csv_clean(filename):\n",
    "    return pd.read_csv(\n",
    "        data_path / filename,\n",
    "        engine=\"python\",       # more tolerant\n",
    "        on_bad_lines=\"skip\",   # skip problematic rows\n",
    "        sep=\",\",\n",
    "        quotechar='\"',\n",
    "        escapechar=\"\\\\\"\n",
    "    )\n",
    "\n",
    "allergies          = read_csv_clean('allergies.csv')\n",
    "careplans          = read_csv_clean('careplans.csv')\n",
    "claims_transactions= read_csv_clean('claims_transactions.csv')\n",
    "claims             = read_csv_clean('claims.csv')\n",
    "conditions         = read_csv_clean('conditions.csv')\n",
    "devices            = read_csv_clean('devices.csv')\n",
    "encounters         = read_csv_clean('encounters.csv')\n",
    "imaging_studies    = read_csv_clean('imaging_studies.csv')\n",
    "immunizations      = read_csv_clean('immunizations.csv')\n",
    "medications        = read_csv_clean('medications.csv')\n",
    "observations       = read_csv_clean('observations.csv')\n",
    "#organizations      = read_csv_clean('organizations.csv')\n",
    "patients           = read_csv_clean('patients.csv')\n",
    "payer_transitions  = read_csv_clean('payer_transitions.csv')\n",
    "#payers             = read_csv_clean('payers.csv')\n",
    "procedures         = read_csv_clean('procedures.csv')\n",
    "#providers          = read_csv_clean('providers.csv')\n",
    "supplies           = read_csv_clean('supplies.csv')\n"
   ]
  },
  {
   "cell_type": "code",
   "execution_count": null,
   "id": "95355d86-0c56-4578-9d61-027fdb268265",
   "metadata": {},
   "outputs": [],
   "source": [
    "allergies.shape()"
   ]
  },
  {
   "cell_type": "code",
   "execution_count": null,
   "id": "b11ba8a1-99df-435e-be05-302bc88b410f",
   "metadata": {},
   "outputs": [],
   "source": [
    "pd.set_option('display.max_rows', None)\n",
    "print(pd.DataFrame(conditions[\"DESCRIPTION\"].unique()))"
   ]
  },
  {
   "cell_type": "code",
   "execution_count": null,
   "id": "02c976a0-c3b8-492d-8a3d-567173ecd0e6",
   "metadata": {},
   "outputs": [],
   "source": [
    "conditions[[\"DESCRIPTION\",\"CODE\"]]"
   ]
  },
  {
   "cell_type": "code",
   "execution_count": null,
   "id": "8741ed39-fffe-4cb9-9189-5bd0c0e5e317",
   "metadata": {},
   "outputs": [],
   "source": []
  },
  {
   "cell_type": "code",
   "execution_count": null,
   "id": "88d5bca7-ea7f-4939-b029-c9a63561f052",
   "metadata": {},
   "outputs": [],
   "source": []
  },
  {
   "cell_type": "code",
   "execution_count": null,
   "id": "bbb39db1-47dc-4d1a-a2e6-56fe6f23870b",
   "metadata": {},
   "outputs": [],
   "source": []
  },
  {
   "cell_type": "code",
   "execution_count": null,
   "id": "16d70bc5-ef1b-4b9f-910b-8db884795d46",
   "metadata": {},
   "outputs": [],
   "source": []
  },
  {
   "cell_type": "code",
   "execution_count": null,
   "id": "b3f6bf69-3286-4edb-9ae0-1aba61105574",
   "metadata": {},
   "outputs": [],
   "source": []
  }
 ],
 "metadata": {
  "kernelspec": {
   "display_name": "Python 3 (ipykernel)",
   "language": "python",
   "name": "python3"
  },
  "language_info": {
   "codemirror_mode": {
    "name": "ipython",
    "version": 3
   },
   "file_extension": ".py",
   "mimetype": "text/x-python",
   "name": "python",
   "nbconvert_exporter": "python",
   "pygments_lexer": "ipython3",
   "version": "3.12.4"
  }
 },
 "nbformat": 4,
 "nbformat_minor": 5
}
