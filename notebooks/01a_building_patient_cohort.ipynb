{
 "cells": [
  {
   "cell_type": "code",
   "execution_count": 1,
   "id": "69a5a0eb-06b5-47fe-bf04-83fcbb20673f",
   "metadata": {},
   "outputs": [],
   "source": [
    "import pandas as pd\n",
    "from pathlib import Path"
   ]
  },
  {
   "cell_type": "code",
   "execution_count": 2,
   "id": "68cde4c8-3365-48fb-9b88-73673f6af775",
   "metadata": {
    "scrolled": true
   },
   "outputs": [],
   "source": [
    "# Paths defined \n",
    "data_path = Path('/Users/sumanth/personal_project/data/')\n",
    "output_path = Path('/Users/sumanth/personal_project/outputs/pc_cancer_post_20')\n",
    "output_path.mkdir(parents=True, exist_ok=True)"
   ]
  },
  {
   "cell_type": "code",
   "execution_count": 3,
   "id": "a0ef1188-02ad-4109-8173-c7287bd25d9f",
   "metadata": {},
   "outputs": [],
   "source": [
    "# Patients and conditions files\n",
    "\n",
    "patients    = pd.read_csv(data_path/'patients.csv', engine='python', on_bad_lines='skip')\n",
    "conditions  = pd.read_csv(data_path/'conditions.csv', engine='python', on_bad_lines='skip')\n",
    "conditions['START'] = pd.to_datetime(conditions['START'], errors='coerce')"
   ]
  },
  {
   "cell_type": "code",
   "execution_count": 4,
   "id": "49566fae-68f1-424d-b844-565ef865b8d1",
   "metadata": {},
   "outputs": [],
   "source": [
    "# Possible cancer terms to filter the description column on \n",
    "\n",
    "cancer_terms = [ \"malignant neoplasm\",\"carcinoma\",\"cancer\",\"sarcoma\",\"melanoma\", \"lymphoma\",\"leukemia\",\"myeloma\",\"metastasis\",\"in situ\"]"
   ]
  },
  {
   "cell_type": "code",
   "execution_count": 5,
   "id": "a8dd8318-9d26-4d4b-9383-4ff85b9652df",
   "metadata": {},
   "outputs": [],
   "source": [
    "# Creating all the filters (cancer patients with first dx after 2020)\n",
    "\n",
    "filter_cancer_tf = conditions['DESCRIPTION'].str.contains(\"|\".join(cancer_terms), case=False, na=False)\n",
    "cancer_conditions = conditions[filter_cancer_tf]\n",
    "\n",
    "first_dx = (cancer_conditions.groupby('PATIENT')['START'].min().reset_index(name='FIRST_DIAGNOSIS'))\n",
    "first_dx_after_2020 = first_dx[first_dx['FIRST_DIAGNOSIS'] >= '2020-01-01']"
   ]
  },
  {
   "cell_type": "code",
   "execution_count": 6,
   "id": "8a203783-3fa6-4f2d-a2fc-0f3f8db22240",
   "metadata": {},
   "outputs": [
    {
     "name": "stdout",
     "output_type": "stream",
     "text": [
      "Cancer patients after 2020: 275\n"
     ]
    }
   ],
   "source": [
    "#Final patient cohort and checking the count\n",
    "\n",
    "final_pat_cohort = patients.merge(first_dx_after_2020, left_on='Id', right_on='PATIENT', how='inner')\n",
    "print(\"Cancer patients after 2020:\", final_pat_cohort.shape[0])"
   ]
  },
  {
   "cell_type": "code",
   "execution_count": 7,
   "id": "d781e058-8577-449a-967a-477f46b316e8",
   "metadata": {},
   "outputs": [],
   "source": [
    "#Saving the patient IDs to the output folder\n",
    "\n",
    "final_pat_cohort_ids = final_pat_cohort[[\"PATIENT\"]].drop_duplicates().rename(columns = {\"PATIENT\":\"pat_id\"})\n",
    "final_pat_cohort_ids.to_csv(output_path / \"pc_ids_cancer_post_2020.csv\", index = False)"
   ]
  },
  {
   "cell_type": "code",
   "execution_count": 8,
   "id": "e0dbb4f1-05a2-45be-b955-528e9b9b840c",
   "metadata": {},
   "outputs": [
    {
     "data": {
      "text/html": [
       "<div>\n",
       "<style scoped>\n",
       "    .dataframe tbody tr th:only-of-type {\n",
       "        vertical-align: middle;\n",
       "    }\n",
       "\n",
       "    .dataframe tbody tr th {\n",
       "        vertical-align: top;\n",
       "    }\n",
       "\n",
       "    .dataframe thead th {\n",
       "        text-align: right;\n",
       "    }\n",
       "</style>\n",
       "<table border=\"1\" class=\"dataframe\">\n",
       "  <thead>\n",
       "    <tr style=\"text-align: right;\">\n",
       "      <th></th>\n",
       "      <th>pat_id</th>\n",
       "    </tr>\n",
       "  </thead>\n",
       "  <tbody>\n",
       "    <tr>\n",
       "      <th>0</th>\n",
       "      <td>b1dae81e-faef-19a6-7699-559279927773</td>\n",
       "    </tr>\n",
       "    <tr>\n",
       "      <th>1</th>\n",
       "      <td>553b64e6-a7bc-a9cd-1650-2f599d9a7528</td>\n",
       "    </tr>\n",
       "    <tr>\n",
       "      <th>2</th>\n",
       "      <td>6c8e53d0-e87f-fabf-e294-017bfa736121</td>\n",
       "    </tr>\n",
       "    <tr>\n",
       "      <th>3</th>\n",
       "      <td>d5493a8b-548c-70bd-8805-baeb010baedf</td>\n",
       "    </tr>\n",
       "    <tr>\n",
       "      <th>4</th>\n",
       "      <td>431ecf25-cf87-33ce-a29a-14fb0a3c320f</td>\n",
       "    </tr>\n",
       "    <tr>\n",
       "      <th>...</th>\n",
       "      <td>...</td>\n",
       "    </tr>\n",
       "    <tr>\n",
       "      <th>270</th>\n",
       "      <td>2925ff42-8bcd-555d-f745-ef79e06438b7</td>\n",
       "    </tr>\n",
       "    <tr>\n",
       "      <th>271</th>\n",
       "      <td>5a0235bb-4053-0fd8-6bfb-a9ba93ebacaf</td>\n",
       "    </tr>\n",
       "    <tr>\n",
       "      <th>272</th>\n",
       "      <td>449cb9c4-0627-5c4f-6486-3ab4186c8c6e</td>\n",
       "    </tr>\n",
       "    <tr>\n",
       "      <th>273</th>\n",
       "      <td>ab4b974f-9b2d-2354-fcf0-f6b22f92c99d</td>\n",
       "    </tr>\n",
       "    <tr>\n",
       "      <th>274</th>\n",
       "      <td>b831ee54-40b8-5fc7-b7e5-c8b55fe55c30</td>\n",
       "    </tr>\n",
       "  </tbody>\n",
       "</table>\n",
       "<p>275 rows × 1 columns</p>\n",
       "</div>"
      ],
      "text/plain": [
       "                                   pat_id\n",
       "0    b1dae81e-faef-19a6-7699-559279927773\n",
       "1    553b64e6-a7bc-a9cd-1650-2f599d9a7528\n",
       "2    6c8e53d0-e87f-fabf-e294-017bfa736121\n",
       "3    d5493a8b-548c-70bd-8805-baeb010baedf\n",
       "4    431ecf25-cf87-33ce-a29a-14fb0a3c320f\n",
       "..                                    ...\n",
       "270  2925ff42-8bcd-555d-f745-ef79e06438b7\n",
       "271  5a0235bb-4053-0fd8-6bfb-a9ba93ebacaf\n",
       "272  449cb9c4-0627-5c4f-6486-3ab4186c8c6e\n",
       "273  ab4b974f-9b2d-2354-fcf0-f6b22f92c99d\n",
       "274  b831ee54-40b8-5fc7-b7e5-c8b55fe55c30\n",
       "\n",
       "[275 rows x 1 columns]"
      ]
     },
     "execution_count": 8,
     "metadata": {},
     "output_type": "execute_result"
    }
   ],
   "source": [
    "final_pat_cohort_ids"
   ]
  },
  {
   "cell_type": "code",
   "execution_count": null,
   "id": "e0a855cf-ff93-4b7a-bc45-467f74f43269",
   "metadata": {},
   "outputs": [],
   "source": []
  }
 ],
 "metadata": {
  "kernelspec": {
   "display_name": "Python 3 (ipykernel)",
   "language": "python",
   "name": "python3"
  },
  "language_info": {
   "codemirror_mode": {
    "name": "ipython",
    "version": 3
   },
   "file_extension": ".py",
   "mimetype": "text/x-python",
   "name": "python",
   "nbconvert_exporter": "python",
   "pygments_lexer": "ipython3",
   "version": "3.12.4"
  }
 },
 "nbformat": 4,
 "nbformat_minor": 5
}
